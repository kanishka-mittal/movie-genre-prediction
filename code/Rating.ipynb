{
  "nbformat": 4,
  "nbformat_minor": 0,
  "metadata": {
    "colab": {
      "provenance": []
    },
    "kernelspec": {
      "name": "python3",
      "display_name": "Python 3"
    },
    "language_info": {
      "name": "python"
    }
  },
  "cells": [
    {
      "cell_type": "code",
      "execution_count": null,
      "metadata": {
        "id": "uxtONLOumMdY"
      },
      "outputs": [],
      "source": [
        "from google.colab import drive\n",
        "drive.mount('/content/gdrive')\n",
        "\n",
        "# !unzip '/content/gdrive/My Drive/Movies/posters.zip'\n",
        "!unzip '/content/gdrive/My Drive/Movies/archive.zip'"
      ]
    },
    {
      "cell_type": "code",
      "source": [
        "import numpy as np \n",
        "import os\n",
        "from IPython.display import Image as disImage\n",
        "from PIL import Image\n",
        "import glob\n",
        "import keras\n",
        "\n",
        "import random\n",
        "from sklearn.neighbors import KNeighborsClassifier\n",
        "for dirname, _, filenames in os.walk('/kaggle/input'):\n",
        "    for filename in filenames:\n",
        "       os.path.join(dirname, filename)\n",
        "directory = './SampleMoviePosters/SampleMoviePosters/'\n",
        "id_list = []\n",
        "\n",
        "for filename in glob.iglob(f'{directory}/*'):\n",
        "    f = filename.split('/')\n",
        "    im = f[-1][:-4]\n",
        "    id_list.append(im)\n",
        "\n",
        "print(\"Number of Posters:\",len(id_list))"
      ],
      "metadata": {
        "colab": {
          "base_uri": "https://localhost:8080/"
        },
        "id": "EfbBhcmhmRo7",
        "outputId": "14ebce0c-dd4d-495a-83f8-23358b34e49d"
      },
      "execution_count": null,
      "outputs": [
        {
          "output_type": "stream",
          "name": "stdout",
          "text": [
            "Number of Posters: 997\n"
          ]
        }
      ]
    },
    {
      "cell_type": "code",
      "source": [
        "shape = (268, 182, 3)\n",
        "random.shuffle(id_list)\n",
        "same_dims = True\n",
        "image_array_train = []\n",
        "image_array_val = []\n",
        "train_size = len(id_list)*9//10\n",
        "for i in range(len(id_list)):\n",
        "    file = './SampleMoviePosters/SampleMoviePosters/'+id_list[i]+'.jpg'\n",
        "    img= Image.open(file)\n",
        "    np_img = np.array(img)\n",
        "    if i<train_size:\n",
        "      image_array_train.append(np_img)\n",
        "    else:\n",
        "      image_array_val.append(np_img)\n",
        "    if  shape != np_img.shape:\n",
        "        same_dims= False\n",
        "        print(\"different shapes\")\n",
        "        print(np_img.shape, 'ID', id_list[i])\n",
        "if same_dims:\n",
        "    print(\"All posters are of same dimentions already.\\nAll images have been converted to numpy array\")"
      ],
      "metadata": {
        "colab": {
          "base_uri": "https://localhost:8080/"
        },
        "id": "4RtgcxrxmVCd",
        "outputId": "37c65d4f-dcff-4fd2-ec9e-d0b8cb31758e"
      },
      "execution_count": null,
      "outputs": [
        {
          "output_type": "stream",
          "name": "stdout",
          "text": [
            "All posters are of same dimentions already.\n",
            "All images have been converted to numpy array\n"
          ]
        }
      ]
    },
    {
      "cell_type": "code",
      "source": [
        "import csv\n",
        "id_rating_dict = {}\n",
        "i=0\n",
        "with open('./MovieGenre.csv', newline='', encoding = \"ISO-8859-1\") as csvfile:\n",
        "    reader = csv.reader(csvfile)\n",
        "    next(reader)\n",
        "    for row in reader:\n",
        "        i+=1\n",
        "        movie_id = row[0]\n",
        "        rating = row[3]\n",
        "        id_rating_dict.update({movie_id:rating})"
      ],
      "metadata": {
        "id": "auY9neL4mX19"
      },
      "execution_count": null,
      "outputs": []
    },
    {
      "cell_type": "code",
      "source": [
        "rating_train = []\n",
        "rating_val = []\n",
        "for i in range(len(id_list)):\n",
        "    rating = float(id_rating_dict[id_list[i]])\n",
        "    if i<train_size:\n",
        "      rating_train.append(rating)\n",
        "    else:\n",
        "      rating_val.append(rating)"
      ],
      "metadata": {
        "id": "G6gcqacOmbCq"
      },
      "execution_count": null,
      "outputs": []
    },
    {
      "cell_type": "code",
      "source": [
        "import numpy as np\n",
        "from sklearn import linear_model\n",
        "from sklearn import svm\n",
        "from sklearn.neighbors import KNeighborsRegressor\n",
        "from sklearn.gaussian_process import GaussianProcessRegressor\n",
        "from sklearn.metrics import mean_squared_error\n",
        "import matplotlib\n",
        "import matplotlib.pyplot as plt\n",
        "import seaborn as sns\n",
        "import pandas as pd\n",
        "X_train = np.zeros((len(image_array_train),shape[0]*shape[1]*shape[2]))\n",
        "X_val = np.zeros((len(image_array_val),shape[0]*shape[1]*shape[2]))\n",
        "\n",
        "for i in range(len(image_array_train)):\n",
        "  X_train[i] = image_array_train[i].reshape(shape[0]*shape[1]*shape[2])\n",
        "\n",
        "for i in range(len(image_array_val)):\n",
        "  X_val[i] = image_array_val[i].reshape(shape[0]*shape[1]*shape[2])\n",
        "regressors = [\n",
        "    svm.SVR(kernel='rbf'),\n",
        "    KNeighborsRegressor(n_neighbors=50),\n",
        "]\n",
        "for item in regressors:\n",
        "    print(item)\n",
        "    clf = item\n",
        "    clf.fit(X_train, rating_train)\n",
        "    y_pred = clf.predict(X_val)\n",
        "    print(mean_squared_error(y_pred,rating_val))\n",
        "    print(clf.score(X_val,rating_val))\n",
        "    plt.figure()\n",
        "    scat_data_cl = pd.DataFrame(data={'Predictions':y_pred,'Ground_Truth':rating_val})\n",
        "    sns.regplot(x='Predictions',y='Ground_Truth',data = scat_data_cl,lowess=True,scatter_kws={'s':2})\n",
        "    plt.title(item)\n",
        "    plt.show()"
      ],
      "metadata": {
        "colab": {
          "base_uri": "https://localhost:8080/",
          "height": 677
        },
        "id": "oXehmeIDmctF",
        "outputId": "dd54f740-015d-465e-9a9b-af24d0eb3b8b"
      },
      "execution_count": null,
      "outputs": [
        {
          "output_type": "stream",
          "name": "stdout",
          "text": [
            "SVR()\n",
            "0.5094917389716948\n",
            "0.03179684132290672\n"
          ]
        },
        {
          "output_type": "display_data",
          "data": {
            "text/plain": [
              "<Figure size 432x288 with 1 Axes>"
            ],
            "image/png": "[encoded data removed]"
          },
          "metadata": {
            "needs_background": "light"
          }
        },
        {
          "output_type": "stream",
          "name": "stdout",
          "text": [
            "KNeighborsRegressor(n_neighbors=50)\n",
            "0.5266914\n",
            "-0.0008882149046793852\n"
          ]
        },
        {
          "output_type": "display_data",
          "data": {
            "text/plain": [
              "<Figure size 432x288 with 1 Axes>"
            ],
            "image/png": "[encoded data removed]"
          },
          "metadata": {
            "needs_background": "light"
          }
        }
      ]
    }
  ]
}